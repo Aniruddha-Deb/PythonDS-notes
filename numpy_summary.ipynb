{
 "cells": [
  {
   "cell_type": "markdown",
   "id": "2af04fd3",
   "metadata": {},
   "source": [
    "# Numpy Function Summary\n",
    "\n",
    "This is a short set of notes covering some concepts/snippets in NumPy. Made as I follow along Python Data Science Handbook by Jake VanderPlas"
   ]
  },
  {
   "cell_type": "code",
   "execution_count": 154,
   "id": "8b1c8adc",
   "metadata": {},
   "outputs": [
    {
     "name": "stdout",
     "output_type": "stream",
     "text": [
      "Exception reporting mode: Minimal\n"
     ]
    }
   ],
   "source": [
    "# imports \n",
    "import numpy as np\n",
    "%xmode minimal"
   ]
  },
  {
   "cell_type": "markdown",
   "id": "c3465712",
   "metadata": {},
   "source": [
    "## Making Arrays"
   ]
  },
  {
   "cell_type": "code",
   "execution_count": 155,
   "id": "df78b1d6",
   "metadata": {},
   "outputs": [
    {
     "data": {
      "text/plain": [
       "array([0, 0, 0, 0, 0, 0, 0, 0, 0, 0])"
      ]
     },
     "execution_count": 155,
     "metadata": {},
     "output_type": "execute_result"
    }
   ],
   "source": [
    "np.zeros(10, dtype=int)"
   ]
  },
  {
   "cell_type": "code",
   "execution_count": 156,
   "id": "2cf34b40",
   "metadata": {},
   "outputs": [
    {
     "data": {
      "text/plain": [
       "array([[1., 1., 1., 1., 1.],\n",
       "       [1., 1., 1., 1., 1.],\n",
       "       [1., 1., 1., 1., 1.]])"
      ]
     },
     "execution_count": 156,
     "metadata": {},
     "output_type": "execute_result"
    }
   ],
   "source": [
    "np.ones((3,5),dtype=float) "
   ]
  },
  {
   "cell_type": "code",
   "execution_count": 157,
   "id": "aee9e908",
   "metadata": {},
   "outputs": [
    {
     "name": "stdout",
     "output_type": "stream",
     "text": [
      "<class 'numpy.float64'> <class 'numpy.int64'>\n"
     ]
    }
   ],
   "source": [
    "# float defaults to float64, int defaults to int64\n",
    "print(type(_3[0,0]), type(_2[0]))"
   ]
  },
  {
   "cell_type": "code",
   "execution_count": 158,
   "id": "42494e52",
   "metadata": {},
   "outputs": [
    {
     "data": {
      "text/plain": [
       "array([[3.14, 3.14, 3.14, 3.14, 3.14],\n",
       "       [3.14, 3.14, 3.14, 3.14, 3.14],\n",
       "       [3.14, 3.14, 3.14, 3.14, 3.14]])"
      ]
     },
     "execution_count": 158,
     "metadata": {},
     "output_type": "execute_result"
    }
   ],
   "source": [
    "np.full((3,5),3.14)"
   ]
  },
  {
   "cell_type": "code",
   "execution_count": 159,
   "id": "6092c634",
   "metadata": {},
   "outputs": [
    {
     "data": {
      "text/plain": [
       "array([ 0,  2,  4,  6,  8, 10, 12, 14, 16, 18])"
      ]
     },
     "execution_count": 159,
     "metadata": {},
     "output_type": "execute_result"
    }
   ],
   "source": [
    "np.arange(0,20,2) # similar to standard python range"
   ]
  },
  {
   "cell_type": "code",
   "execution_count": 160,
   "id": "99ef1dfb",
   "metadata": {},
   "outputs": [
    {
     "data": {
      "text/plain": [
       "array([0.        , 0.52359878, 1.04719755, 1.57079633, 2.0943951 ,\n",
       "       2.61799388, 3.14159265])"
      ]
     },
     "execution_count": 160,
     "metadata": {},
     "output_type": "execute_result"
    }
   ],
   "source": [
    "np.linspace(0,np.pi,7) \n",
    "# very useful for generating linear spaces, esp when functions\n",
    "# need to be generated and plotted"
   ]
  },
  {
   "cell_type": "code",
   "execution_count": 161,
   "id": "581de158",
   "metadata": {},
   "outputs": [
    {
     "data": {
      "text/plain": [
       "array([[0.81296924, 0.56964974, 0.22138374],\n",
       "       [0.83403211, 0.49137092, 0.34444953],\n",
       "       [0.05489069, 0.55865437, 0.28875437]])"
      ]
     },
     "execution_count": 161,
     "metadata": {},
     "output_type": "execute_result"
    }
   ],
   "source": [
    "np.random.random((3,3)) # uniform random"
   ]
  },
  {
   "cell_type": "code",
   "execution_count": 162,
   "id": "23007b38",
   "metadata": {},
   "outputs": [
    {
     "data": {
      "text/plain": [
       "array([[-0.13556148,  0.24552433,  0.93751342],\n",
       "       [ 0.88138712, -0.09459561,  0.29901006],\n",
       "       [ 1.90159968, -0.08169106,  0.9730997 ]])"
      ]
     },
     "execution_count": 162,
     "metadata": {},
     "output_type": "execute_result"
    }
   ],
   "source": [
    "np.random.normal(0,1,(3,3)) # standard normal"
   ]
  },
  {
   "cell_type": "code",
   "execution_count": 163,
   "id": "2d7fac40",
   "metadata": {},
   "outputs": [
    {
     "data": {
      "text/plain": [
       "array([[8, 0, 6],\n",
       "       [8, 2, 3],\n",
       "       [5, 5, 8]])"
      ]
     },
     "execution_count": 163,
     "metadata": {},
     "output_type": "execute_result"
    }
   ],
   "source": [
    "np.random.randint(0,10,(3,3))"
   ]
  },
  {
   "cell_type": "code",
   "execution_count": 164,
   "id": "811e451c",
   "metadata": {},
   "outputs": [
    {
     "data": {
      "text/plain": [
       "array([[1., 0., 0.],\n",
       "       [0., 1., 0.],\n",
       "       [0., 0., 1.]])"
      ]
     },
     "execution_count": 164,
     "metadata": {},
     "output_type": "execute_result"
    }
   ],
   "source": [
    "np.eye(3)"
   ]
  },
  {
   "cell_type": "code",
   "execution_count": 165,
   "id": "a731d013",
   "metadata": {},
   "outputs": [
    {
     "data": {
      "text/plain": [
       "array([[-2.68156159e+154,  1.73060623e-077,  1.97626258e-323,\n",
       "         0.00000000e+000],\n",
       "       [ 0.00000000e+000,  0.00000000e+000,  4.34457681e-311,\n",
       "         5.60613042e-309]])"
      ]
     },
     "execution_count": 165,
     "metadata": {},
     "output_type": "execute_result"
    }
   ],
   "source": [
    "np.empty((2,4)) \n",
    "# empty array, filled with whatever already exists there"
   ]
  },
  {
   "cell_type": "markdown",
   "id": "2ecd6097",
   "metadata": {},
   "source": [
    "<img style=\"width: 60%;\" src=\"img/numpy_types.png\"></img>\n",
    "<img style=\"width: 60%;\" src=\"img/np_datatypes.png\"></img>"
   ]
  },
  {
   "cell_type": "markdown",
   "id": "8798cc7b",
   "metadata": {},
   "source": [
    "## More on Arrays\n",
    "\n",
    "- Arrays are mutable: if you make a subarray via splitting/splicing and modify the subarray, the original array will also change. Use `.copy()` to not let that happen\n",
    "- Operations on arrays:\n",
    "    - Attributes\n",
    "    - Indexing\n",
    "    - Slicing and Reshaping\n",
    "    - Joining and Splitting"
   ]
  },
  {
   "cell_type": "markdown",
   "id": "e98f0d87",
   "metadata": {},
   "source": [
    "### Array Attributes\n",
    "\n",
    "Arrays have two major attributes: dimension and shape. Consider the following array:"
   ]
  },
  {
   "cell_type": "code",
   "execution_count": 166,
   "id": "d6fac503",
   "metadata": {},
   "outputs": [
    {
     "data": {
      "text/plain": [
       "array([[[ 0,  5,  5, 27, 46],\n",
       "        [39, 33, 37, 40, 16],\n",
       "        [ 7, 47, 30, 24,  5]],\n",
       "\n",
       "       [[33, 18, 20, 10,  4],\n",
       "        [ 9, 39, 12, 39, 26],\n",
       "        [37, 46, 45, 32,  1]]])"
      ]
     },
     "execution_count": 166,
     "metadata": {},
     "output_type": "execute_result"
    }
   ],
   "source": [
    "np.random.randint(0,50,(2,3,5))"
   ]
  },
  {
   "cell_type": "markdown",
   "id": "7327c7f0",
   "metadata": {},
   "source": [
    "The position of an element in a one-dimensional array is it's index.\n",
    "\n",
    "The dimension of the array is the number of indexes required to access a particular element of the array. To access the first element, we would need 3 indexes i.e. `_15[0,0,0]`, hence the dimension is 3.\n",
    "\n",
    "The shape of the array is the range of particular indexes. The first index here has a range of 2, the second 3 and the last 5. Note that indexes are ordered from outermost to innermost: \n",
    "```text\n",
    "[ [ [1], [2] ], [ [3], [4] ] ]\n",
    " ↑ ↑ ↑\n",
    " 0 1 2     if your position is (<0>,<1>,<2>) (<> = value)\n",
    "```\n",
    "\n",
    "This is equivalent to doing `A[<0>][<1>][<2>]`. For brevity, numpy uses `[<0>, <1>, <2>]` to access."
   ]
  },
  {
   "cell_type": "code",
   "execution_count": 167,
   "id": "5030de4a",
   "metadata": {},
   "outputs": [
    {
     "name": "stdout",
     "output_type": "stream",
     "text": [
      "3\n",
      "(2, 3, 5)\n",
      "30\n"
     ]
    }
   ],
   "source": [
    "print(_15.ndim, _15.shape, _15.size, sep=\"\\n\")"
   ]
  },
  {
   "cell_type": "code",
   "execution_count": 168,
   "id": "8e62a7b4",
   "metadata": {},
   "outputs": [
    {
     "name": "stdout",
     "output_type": "stream",
     "text": [
      "44 44\n"
     ]
    }
   ],
   "source": [
    "print(_15[0][2][4], _15[0,2,4])"
   ]
  },
  {
   "cell_type": "markdown",
   "id": "940dd327",
   "metadata": {},
   "source": [
    "### Slicing, Reshaping, Joining and Splitting\n",
    "\n",
    "Start with creating a small example array"
   ]
  },
  {
   "cell_type": "code",
   "execution_count": 169,
   "id": "b5ba2c27",
   "metadata": {},
   "outputs": [
    {
     "data": {
      "text/plain": [
       "array([[ 0, 39,  1, 43, 12,  2, 33, 33],\n",
       "       [34, 49, 30, 47,  1, 26,  4, 28],\n",
       "       [44, 35, 16, 39, 33,  7, 47, 30],\n",
       "       [12,  1, 46, 28,  3,  8, 35, 25],\n",
       "       [47, 35,  6, 26, 44, 34, 20, 35]])"
      ]
     },
     "execution_count": 169,
     "metadata": {},
     "output_type": "execute_result"
    }
   ],
   "source": [
    "A = np.random.randint(0,50,(5,8))\n",
    "A"
   ]
  },
  {
   "cell_type": "code",
   "execution_count": 170,
   "id": "504eb261",
   "metadata": {},
   "outputs": [
    {
     "data": {
      "text/plain": [
       "array([[30, 47,  1, 26],\n",
       "       [16, 39, 33,  7],\n",
       "       [46, 28,  3,  8]])"
      ]
     },
     "execution_count": 170,
     "metadata": {},
     "output_type": "execute_result"
    }
   ],
   "source": [
    "# Slicing: similar (same?) to slicing python lists\n",
    "A[1:-1,2:-2]"
   ]
  },
  {
   "cell_type": "code",
   "execution_count": 171,
   "id": "29467c54",
   "metadata": {},
   "outputs": [
    {
     "data": {
      "text/plain": [
       "array([[[ 0, 39,  1, 43, 12],\n",
       "        [ 2, 33, 33, 34, 49],\n",
       "        [30, 47,  1, 26,  4],\n",
       "        [28, 44, 35, 16, 39]],\n",
       "\n",
       "       [[33,  7, 47, 30, 12],\n",
       "        [ 1, 46, 28,  3,  8],\n",
       "        [35, 25, 47, 35,  6],\n",
       "        [26, 44, 34, 20, 35]]])"
      ]
     },
     "execution_count": 171,
     "metadata": {},
     "output_type": "execute_result"
    }
   ],
   "source": [
    "# Reshaping\n",
    "A.reshape((2,4,5)) \n",
    "# flattens the array out sequentially into 1-D,\n",
    "# then strings it out in the given shape"
   ]
  },
  {
   "cell_type": "code",
   "execution_count": 172,
   "id": "a716a0cf",
   "metadata": {},
   "outputs": [
    {
     "data": {
      "text/plain": [
       "array([[0, 1, 2, 3, 4]])"
      ]
     },
     "execution_count": 172,
     "metadata": {},
     "output_type": "execute_result"
    }
   ],
   "source": [
    "# Reshaping via np.newaxis: np.newaxis simply inserts a new axis \n",
    "# around your data.\n",
    "np.arange(5)[np.newaxis]"
   ]
  },
  {
   "cell_type": "markdown",
   "id": "9626151e",
   "metadata": {},
   "source": [
    "The way to use newaxis is to use it in an index whenever a new axis needs to be inserted. The following inserts a new axis around everyelement of np.arange(5), converting it into a column vector from a row vector."
   ]
  },
  {
   "cell_type": "code",
   "execution_count": 173,
   "id": "94c59f5e",
   "metadata": {},
   "outputs": [
    {
     "data": {
      "text/plain": [
       "array([[0],\n",
       "       [1],\n",
       "       [2],\n",
       "       [3],\n",
       "       [4]])"
      ]
     },
     "execution_count": 173,
     "metadata": {},
     "output_type": "execute_result"
    }
   ],
   "source": [
    "np.arange(5)[:,np.newaxis]"
   ]
  },
  {
   "cell_type": "code",
   "execution_count": 174,
   "id": "0c799ee1",
   "metadata": {},
   "outputs": [
    {
     "data": {
      "text/plain": [
       "array([[ 0, 39,  1, 43, 12,  2, 33, 33,  1,  1,  1],\n",
       "       [34, 49, 30, 47,  1, 26,  4, 28,  1,  1,  1],\n",
       "       [44, 35, 16, 39, 33,  7, 47, 30,  1,  1,  1],\n",
       "       [12,  1, 46, 28,  3,  8, 35, 25,  1,  1,  1],\n",
       "       [47, 35,  6, 26, 44, 34, 20, 35,  1,  1,  1]])"
      ]
     },
     "execution_count": 174,
     "metadata": {},
     "output_type": "execute_result"
    }
   ],
   "source": [
    "# concatenation\n",
    "B = np.ones((5,3), dtype=int)\n",
    "np.concatenate([A,B], axis=1) # note the axis here: we're concatenating\n",
    "# along the first axis (lengthwise to the inner elements)"
   ]
  },
  {
   "cell_type": "code",
   "execution_count": 175,
   "id": "240192e6",
   "metadata": {},
   "outputs": [
    {
     "data": {
      "text/plain": [
       "array([[ 0, 39,  1, 43, 12,  2, 33, 33,  1,  1,  1],\n",
       "       [34, 49, 30, 47,  1, 26,  4, 28,  1,  1,  1],\n",
       "       [44, 35, 16, 39, 33,  7, 47, 30,  1,  1,  1],\n",
       "       [12,  1, 46, 28,  3,  8, 35, 25,  1,  1,  1],\n",
       "       [47, 35,  6, 26, 44, 34, 20, 35,  1,  1,  1]])"
      ]
     },
     "execution_count": 175,
     "metadata": {},
     "output_type": "execute_result"
    }
   ],
   "source": [
    "# stacking is equivalent to concatenating horizontally\n",
    "np.hstack([A,B])"
   ]
  },
  {
   "cell_type": "code",
   "execution_count": 176,
   "id": "6dd35f91",
   "metadata": {},
   "outputs": [
    {
     "data": {
      "text/plain": [
       "[array([[ 0, 39,  1],\n",
       "        [34, 49, 30],\n",
       "        [44, 35, 16],\n",
       "        [12,  1, 46],\n",
       "        [47, 35,  6]]),\n",
       " array([[43, 12],\n",
       "        [47,  1],\n",
       "        [39, 33],\n",
       "        [28,  3],\n",
       "        [26, 44]]),\n",
       " array([[ 2, 33, 33],\n",
       "        [26,  4, 28],\n",
       "        [ 7, 47, 30],\n",
       "        [ 8, 35, 25],\n",
       "        [34, 20, 35]])]"
      ]
     },
     "execution_count": 176,
     "metadata": {},
     "output_type": "execute_result"
    }
   ],
   "source": [
    "# splitting\n",
    "np.split(A,[3,5], axis=1) # np.hsplit, np.vsplit also exist"
   ]
  },
  {
   "cell_type": "markdown",
   "id": "7e9c72dd",
   "metadata": {},
   "source": [
    "## Computation \n",
    "\n",
    "Computation is via Universal functions (ufuncs): these functions are vectorized to operate on each element of numpy arrays elementwise, and fast. Much faster than loops."
   ]
  },
  {
   "cell_type": "code",
   "execution_count": 177,
   "id": "7c87fd4a",
   "metadata": {},
   "outputs": [
    {
     "data": {
      "text/plain": [
       "array([[ 0, 39,  1, 43, 12,  2, 33, 33],\n",
       "       [34, 49, 30, 47,  1, 26,  4, 28],\n",
       "       [44, 35, 16, 39, 33,  7, 47, 30],\n",
       "       [12,  1, 46, 28,  3,  8, 35, 25],\n",
       "       [47, 35,  6, 26, 44, 34, 20, 35]])"
      ]
     },
     "execution_count": 177,
     "metadata": {},
     "output_type": "execute_result"
    }
   ],
   "source": [
    "A"
   ]
  },
  {
   "cell_type": "code",
   "execution_count": 178,
   "id": "3b52fd37",
   "metadata": {},
   "outputs": [
    {
     "data": {
      "text/plain": [
       "array([[100, 139, 101, 143, 112, 102, 133, 133],\n",
       "       [134, 149, 130, 147, 101, 126, 104, 128],\n",
       "       [144, 135, 116, 139, 133, 107, 147, 130],\n",
       "       [112, 101, 146, 128, 103, 108, 135, 125],\n",
       "       [147, 135, 106, 126, 144, 134, 120, 135]])"
      ]
     },
     "execution_count": 178,
     "metadata": {},
     "output_type": "execute_result"
    }
   ],
   "source": [
    "A + 100"
   ]
  },
  {
   "cell_type": "code",
   "execution_count": 179,
   "id": "ae90e5f0",
   "metadata": {},
   "outputs": [
    {
     "data": {
      "text/plain": [
       "array([[ 0. , 19.5,  0.5, 21.5,  6. ,  1. , 16.5, 16.5],\n",
       "       [17. , 24.5, 15. , 23.5,  0.5, 13. ,  2. , 14. ],\n",
       "       [22. , 17.5,  8. , 19.5, 16.5,  3.5, 23.5, 15. ],\n",
       "       [ 6. ,  0.5, 23. , 14. ,  1.5,  4. , 17.5, 12.5],\n",
       "       [23.5, 17.5,  3. , 13. , 22. , 17. , 10. , 17.5]])"
      ]
     },
     "execution_count": 179,
     "metadata": {},
     "output_type": "execute_result"
    }
   ],
   "source": [
    "A / 2 # note how the datatype changes here"
   ]
  },
  {
   "cell_type": "markdown",
   "id": "c105a963",
   "metadata": {},
   "source": [
    "<img style=\"width: 60%;\" src=\"img/np_ufuncs_1.png\"></img>\n",
    "<img style=\"width: 30%;\" src=\"img/np_ufuncs_2.png\"></img>\n",
    "Other functions are also ufuncs! `np.sin`,`np.cos`, `np.tan`, `np.abs`, etc "
   ]
  },
  {
   "cell_type": "markdown",
   "id": "ab112c5e",
   "metadata": {},
   "source": [
    "### Advanced Ufuncs: Outer product and Aggregation"
   ]
  },
  {
   "cell_type": "code",
   "execution_count": 180,
   "id": "2bea7e1f",
   "metadata": {},
   "outputs": [
    {
     "data": {
      "text/plain": [
       "(array([0, 1, 2, 3]), array([4, 5, 6, 7]))"
      ]
     },
     "execution_count": 180,
     "metadata": {},
     "output_type": "execute_result"
    }
   ],
   "source": [
    "x = np.arange(4)\n",
    "y = np.arange(4,8)\n",
    "(x,y)"
   ]
  },
  {
   "cell_type": "code",
   "execution_count": 181,
   "id": "e38f43af",
   "metadata": {},
   "outputs": [
    {
     "data": {
      "text/plain": [
       "array([[ 0,  0,  0,  0],\n",
       "       [ 4,  5,  6,  7],\n",
       "       [ 8, 10, 12, 14],\n",
       "       [12, 15, 18, 21]])"
      ]
     },
     "execution_count": 181,
     "metadata": {},
     "output_type": "execute_result"
    }
   ],
   "source": [
    "# outer product: compute for all pairs of diff inputs\n",
    "np.multiply.outer(x,y)"
   ]
  },
  {
   "cell_type": "markdown",
   "id": "1a1bbd0e",
   "metadata": {},
   "source": [
    "Aggregation applies the results of the ufunc to the entire array sequentially, rather than to all elements individually at once. Reduction and accumulation are the two main types of aggregation"
   ]
  },
  {
   "cell_type": "code",
   "execution_count": 182,
   "id": "2b62c041",
   "metadata": {},
   "outputs": [
    {
     "data": {
      "text/plain": [
       "6"
      ]
     },
     "execution_count": 182,
     "metadata": {},
     "output_type": "execute_result"
    }
   ],
   "source": [
    "np.add.reduce(x) # adds all elements of x"
   ]
  },
  {
   "cell_type": "code",
   "execution_count": 183,
   "id": "004c9e2e",
   "metadata": {},
   "outputs": [
    {
     "data": {
      "text/plain": [
       "array([  4,  20, 120, 840])"
      ]
     },
     "execution_count": 183,
     "metadata": {},
     "output_type": "execute_result"
    }
   ],
   "source": [
    "np.multiply.accumulate(y) # sequentially multiplies elements of x"
   ]
  },
  {
   "cell_type": "code",
   "execution_count": 184,
   "id": "7a50e6d2",
   "metadata": {},
   "outputs": [
    {
     "data": {
      "text/plain": [
       "array([137, 159,  99, 183,  93,  77, 139, 151])"
      ]
     },
     "execution_count": 184,
     "metadata": {},
     "output_type": "execute_result"
    }
   ],
   "source": [
    "# aggregates can also work on an axis!\n",
    "np.sum(A, axis=0) # sums along axis 0"
   ]
  },
  {
   "cell_type": "markdown",
   "id": "706fe25c",
   "metadata": {},
   "source": [
    "note that here, axis refers to the dimension of the array that will be collapsed, rather than the dimension that we'll sum on. Collapsing axis 0 means that we'll sum along all axes other than 0"
   ]
  },
  {
   "cell_type": "markdown",
   "id": "cdc9202b",
   "metadata": {},
   "source": [
    "<img style=\"width: 60%;\" src=\"img/aggr_funcs.png\"></img>"
   ]
  },
  {
   "cell_type": "markdown",
   "id": "3dd6ee45",
   "metadata": {},
   "source": [
    "### Broadcasting\n",
    "\n",
    "Broadcasting (Broadening + casting) applies binary ufuncs on arrays of different sizes, according to the following rules:\n",
    "\n",
    "1. If the two arrays differ in their number of dimensions, the shape of the one with fewer dimensions is padded with ones on its leading (left) side.\n",
    "2. If the shape of the two arrays does not match in any dimension, the array with shape equal to 1 in that dimension is stretched to match the other shape.\n",
    "3. If in any dimension the sizes disagree and neither is equal to 1, an error is raised."
   ]
  },
  {
   "cell_type": "code",
   "execution_count": 185,
   "id": "c26f40c4",
   "metadata": {},
   "outputs": [
    {
     "data": {
      "text/plain": [
       "array([[1., 2., 3.],\n",
       "       [1., 2., 3.]])"
      ]
     },
     "execution_count": 185,
     "metadata": {},
     "output_type": "execute_result"
    }
   ],
   "source": [
    "# Rule 1:\n",
    "np.ones((2, 3)) + np.arange(3)\n",
    "# (2,3) + (3,) -> (2,3) + (1,3) -> (2,3) + (2,3) (extension)"
   ]
  },
  {
   "cell_type": "code",
   "execution_count": 186,
   "id": "252e6921",
   "metadata": {},
   "outputs": [
    {
     "data": {
      "text/plain": [
       "array([[0, 1, 2],\n",
       "       [1, 2, 3],\n",
       "       [2, 3, 4]])"
      ]
     },
     "execution_count": 186,
     "metadata": {},
     "output_type": "execute_result"
    }
   ],
   "source": [
    "# Rule 2\n",
    "np.arange(3).reshape((3, 1)) + np.arange(3)"
   ]
  },
  {
   "cell_type": "code",
   "execution_count": 187,
   "id": "6e50bc2f",
   "metadata": {},
   "outputs": [
    {
     "ename": "ValueError",
     "evalue": "operands could not be broadcast together with shapes (3,2) (3,) ",
     "output_type": "error",
     "traceback": [
      "\u001b[0;31mValueError\u001b[0m\u001b[0;31m:\u001b[0m operands could not be broadcast together with shapes (3,2) (3,) \n"
     ]
    }
   ],
   "source": [
    "# Rule 3\n",
    "np.ones((3, 2)) + np.arange(3) # doesn't work"
   ]
  },
  {
   "cell_type": "markdown",
   "id": "ac3f174b",
   "metadata": {},
   "source": [
    "## Boolean Arrays and Masking\n",
    "\n",
    "Boolean conditional ufuncs can be used to mask and obtain only specific datapoints from a given array"
   ]
  },
  {
   "cell_type": "code",
   "execution_count": 188,
   "id": "1ce3efaf",
   "metadata": {},
   "outputs": [
    {
     "data": {
      "text/plain": [
       "array([[ 0, 39,  1, 43, 12,  2, 33, 33],\n",
       "       [34, 49, 30, 47,  1, 26,  4, 28],\n",
       "       [44, 35, 16, 39, 33,  7, 47, 30],\n",
       "       [12,  1, 46, 28,  3,  8, 35, 25],\n",
       "       [47, 35,  6, 26, 44, 34, 20, 35]])"
      ]
     },
     "execution_count": 188,
     "metadata": {},
     "output_type": "execute_result"
    }
   ],
   "source": [
    "A"
   ]
  },
  {
   "cell_type": "code",
   "execution_count": 189,
   "id": "8cd93a0c",
   "metadata": {},
   "outputs": [
    {
     "data": {
      "text/plain": [
       "array([[ True, False,  True, False,  True,  True, False, False],\n",
       "       [False, False, False, False,  True, False,  True, False],\n",
       "       [False, False,  True, False, False,  True, False, False],\n",
       "       [ True,  True, False, False,  True,  True, False, False],\n",
       "       [False, False,  True, False, False, False,  True, False]])"
      ]
     },
     "execution_count": 189,
     "metadata": {},
     "output_type": "execute_result"
    }
   ],
   "source": [
    "A<25 # this gives us a boolean index. We'll cover indices later"
   ]
  },
  {
   "cell_type": "code",
   "execution_count": 190,
   "id": "37942cc8",
   "metadata": {},
   "outputs": [
    {
     "data": {
      "text/plain": [
       "array([ 0,  1, 12,  2,  1,  4, 16,  7, 12,  1,  3,  8,  6, 20])"
      ]
     },
     "execution_count": 190,
     "metadata": {},
     "output_type": "execute_result"
    }
   ],
   "source": [
    "A[A<25]"
   ]
  },
  {
   "cell_type": "markdown",
   "id": "88acb6f9",
   "metadata": {},
   "source": [
    "boolean unary bit operators are used as conditionals for boolean arrays (they apply the conditional elementwise)"
   ]
  },
  {
   "cell_type": "code",
   "execution_count": 191,
   "id": "aa9b602c",
   "metadata": {},
   "outputs": [
    {
     "data": {
      "text/plain": [
       "array([12, 16, 12, 20])"
      ]
     },
     "execution_count": 191,
     "metadata": {},
     "output_type": "execute_result"
    }
   ],
   "source": [
    "A[(A<25) & (A>10)]"
   ]
  },
  {
   "cell_type": "markdown",
   "id": "e4a23c3f",
   "metadata": {},
   "source": [
    "Indexes can also be used to obtain a count of elements satisfying a particular range/value"
   ]
  },
  {
   "cell_type": "code",
   "execution_count": 192,
   "id": "aa34ad4d",
   "metadata": {},
   "outputs": [
    {
     "data": {
      "text/plain": [
       "14"
      ]
     },
     "execution_count": 192,
     "metadata": {},
     "output_type": "execute_result"
    }
   ],
   "source": [
    "(A<25).sum()"
   ]
  },
  {
   "cell_type": "code",
   "execution_count": 193,
   "id": "60957d8b",
   "metadata": {},
   "outputs": [
    {
     "data": {
      "text/plain": [
       "False"
      ]
     },
     "execution_count": 193,
     "metadata": {},
     "output_type": "execute_result"
    }
   ],
   "source": [
    "(A==32).any()"
   ]
  },
  {
   "cell_type": "markdown",
   "id": "4ff107ea",
   "metadata": {},
   "source": [
    "## Fancy Indexing\n",
    "\n",
    "When a tuple containing indices is passed, numpy would create an array with the same structure as the tuple passed"
   ]
  },
  {
   "cell_type": "code",
   "execution_count": 194,
   "id": "f7da6c01",
   "metadata": {},
   "outputs": [
    {
     "data": {
      "text/plain": [
       "array([33,  8])"
      ]
     },
     "execution_count": 194,
     "metadata": {},
     "output_type": "execute_result"
    }
   ],
   "source": [
    "idx = ((2,3),(4,5))\n",
    "A[idx]"
   ]
  },
  {
   "cell_type": "code",
   "execution_count": 195,
   "id": "2d3125b5",
   "metadata": {},
   "outputs": [
    {
     "data": {
      "text/plain": [
       "array([[ 1, 43, 39,  1, 12],\n",
       "       [30, 47, 49, 30,  1],\n",
       "       [16, 39, 35, 16, 33],\n",
       "       [ 6, 26, 35,  6, 44],\n",
       "       [ 6, 26, 35,  6, 44]])"
      ]
     },
     "execution_count": 195,
     "metadata": {},
     "output_type": "execute_result"
    }
   ],
   "source": [
    "idx_row = np.array([0,1,2,4,4])\n",
    "idx_col = np.array([2,3,1,2,4])\n",
    "\n",
    "A[idx_row[:,np.newaxis], idx_col]"
   ]
  },
  {
   "cell_type": "markdown",
   "id": "8b238a7b",
   "metadata": {},
   "source": [
    "Fancy indexing can be combined with simple indexing, slicing and masking, making it very powerful."
   ]
  },
  {
   "cell_type": "markdown",
   "id": "0808f2bd",
   "metadata": {},
   "source": [
    "### At command: in place addition"
   ]
  },
  {
   "cell_type": "code",
   "execution_count": 196,
   "id": "8cfe1fe8",
   "metadata": {},
   "outputs": [
    {
     "data": {
      "text/plain": [
       "array([[100,  39,   1,  43,  12,   2,  33,  33],\n",
       "       [ 34, 149,  30,  47,   1,  26,   4,  28],\n",
       "       [ 44,  35, 116,  39,  33,   7,  47,  30],\n",
       "       [ 12,   1,  46, 128,   3,   8,  35,  25],\n",
       "       [ 47,  35,   6,  26, 144,  34,  20,  35]])"
      ]
     },
     "execution_count": 196,
     "metadata": {},
     "output_type": "execute_result"
    }
   ],
   "source": [
    "# add 100 to all diagonal elements in A\n",
    "# index building is a lil complicated here sadly ;-;\n",
    "np.add.at(A, np.concatenate([(np.eye(A.shape[0])==1), np.zeros((A.shape[0], A.shape[1] - A.shape[0]), dtype=bool)], axis=1), 100)\n",
    "A"
   ]
  },
  {
   "cell_type": "markdown",
   "id": "d6a55056",
   "metadata": {},
   "source": [
    "## Sorting"
   ]
  },
  {
   "cell_type": "code",
   "execution_count": 197,
   "id": "482b660e",
   "metadata": {},
   "outputs": [
    {
     "data": {
      "text/plain": [
       "array([[  1,   2,  12,  33,  33,  39,  43, 100],\n",
       "       [  1,   4,  26,  28,  30,  34,  47, 149],\n",
       "       [  7,  30,  33,  35,  39,  44,  47, 116],\n",
       "       [  1,   3,   8,  12,  25,  35,  46, 128],\n",
       "       [  6,  20,  26,  34,  35,  35,  47, 144]])"
      ]
     },
     "execution_count": 197,
     "metadata": {},
     "output_type": "execute_result"
    }
   ],
   "source": [
    "# A.sort() # in place, modifies A!\n",
    "# to not modify A, use np.sort(A)\n",
    "np.sort(A)"
   ]
  },
  {
   "cell_type": "code",
   "execution_count": 203,
   "id": "da9ecbd3",
   "metadata": {
    "scrolled": true
   },
   "outputs": [
    {
     "data": {
      "text/plain": [
       "array([[ 1,  2],\n",
       "       [ 1,  4],\n",
       "       [ 7, 30],\n",
       "       [ 1,  3],\n",
       "       [ 6, 20]])"
      ]
     },
     "execution_count": 203,
     "metadata": {},
     "output_type": "execute_result"
    }
   ],
   "source": [
    "# partitioning: gets the k smallest values in the array\n",
    "np.partition(A,2,axis=1)[:,:2]"
   ]
  }
 ],
 "metadata": {
  "kernelspec": {
   "display_name": "Python 3",
   "language": "python",
   "name": "python3"
  },
  "language_info": {
   "codemirror_mode": {
    "name": "ipython",
    "version": 3
   },
   "file_extension": ".py",
   "mimetype": "text/x-python",
   "name": "python",
   "nbconvert_exporter": "python",
   "pygments_lexer": "ipython3",
   "version": "3.9.0"
  }
 },
 "nbformat": 4,
 "nbformat_minor": 5
}
